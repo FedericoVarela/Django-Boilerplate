{
 "cells": [
  {
   "attachments": {},
   "cell_type": "markdown",
   "metadata": {},
   "source": [
    "# Hi! This is a Django boilerplate by [FedericoVarela](https://github.com/FedericoVarela)\n",
    "\n",
    "\n",
    "This is a Jupyter Notebook. You can execute Python code in cells, that can be runned individually. This can be very useful for debugging and more comfortable than the default shell. \n",
    "\n",
    "**WARNING! Be sure to set the kernel to Django-Shell Plus before using this notebook**\n",
    "\n",
    "For more info, check [this tutorial](https://medium.com/ayuth/how-to-use-django-in-jupyter-notebook-561ea2401852)\n",
    "\n",
    "### Check the example below:"
   ]
  },
  {
   "cell_type": "code",
   "execution_count": null,
   "metadata": {
    "tags": []
   },
   "outputs": [],
   "source": [
    "print(\"Hello world from print statement!\")\n",
    "\"Hello world from cell output!\"\n"
   ]
  },
  {
   "source": [
    "## Configuration\n",
    "This cell sets up all you need to work with Django within a notebook"
   ],
   "cell_type": "markdown",
   "metadata": {}
  },
  {
   "source": [
    "import os\n",
    "\n",
    "import django\n",
    "from django.conf import settings\n",
    "\n",
    "os.environ.setdefault('DJANGO_SETTINGS_MODULE', '{{ project_name }}.settings.development')\n",
    "os.environ[\"DJANGO_ALLOW_ASYNC_UNSAFE\"] = \"true\"\n",
    "\n",
    "django.setup()\n",
    "\n",
    "if not settings.configured:\n",
    "    settings.configure()\n"
   ],
   "cell_type": "code",
   "metadata": {},
   "execution_count": null,
   "outputs": []
  },
  {
   "cell_type": "markdown",
   "metadata": {},
   "source": [
    "You can import your models and work as if you were using the default shell:\n"
   ]
  },
  {
   "cell_type": "code",
   "execution_count": null,
   "metadata": {},
   "outputs": [],
   "source": [
    "# Importing your models as well as the built in User model\n",
    "# from <app_name>.models import *\n",
    "from django.contrib.auth.models import User\n",
    "\n",
    "# Working with querysets\n",
    "users = User.objects.all()\n",
    "users"
   ]
  }
 ],
 "metadata": {
  "kernelspec": {
   "display_name": "Python 3.8.0 64-bit ('django_boilerplate': pipenv)",
   "language": "python",
   "name": "python38064bitdjangoboilerplatepipenvaed21d10077e4f339800262fd8f5bb74"
  },
  "language_info": {
   "codemirror_mode": {
    "name": "ipython",
    "version": 3
   },
   "file_extension": ".py",
   "mimetype": "text/x-python",
   "name": "python",
   "nbconvert_exporter": "python",
   "pygments_lexer": "ipython3",
   "version": "3.8.0-final"
  }
 },
 "nbformat": 4,
 "nbformat_minor": 2
}